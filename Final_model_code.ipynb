{
  "nbformat": 4,
  "nbformat_minor": 0,
  "metadata": {
    "accelerator": "GPU",
    "colab": {
      "name": "Final_model_code.ipynb",
      "provenance": [],
      "collapsed_sections": []
    },
    "kernelspec": {
      "display_name": "Python 3",
      "name": "python3"
    }
  },
  "cells": [
    {
      "cell_type": "markdown",
      "metadata": {
        "id": "c8GGwmSjmNJi"
      },
      "source": [
        "# **Import necessary Libraries**"
      ]
    },
    {
      "cell_type": "code",
      "metadata": {
        "id": "i6DHTm3-YpCR"
      },
      "source": [
        "import numpy as np\r\n",
        "import pandas as pd\r\n",
        "import matplotlib.pyplot as plt\r\n",
        "from sklearn import preprocessing\r\n",
        "from sklearn.model_selection import train_test_split,GridSearchCV,RandomizedSearchCV\r\n",
        "from sklearn.metrics import r2_score,mean_squared_error\r\n",
        "from sklearn.ensemble import RandomForestRegressor\r\n",
        "from sklearn import metrics #Import scikit-learn metrics module for accuracy calculation\r\n",
        "from sklearn.tree import DecisionTreeClassifier # Import Decision Tree Classifier\r\n",
        "import warnings\r\n",
        "warnings.filterwarnings(action='ignore')"
      ],
      "execution_count": 1,
      "outputs": []
    },
    {
      "cell_type": "markdown",
      "metadata": {
        "id": "dAwgC8EFmSlo"
      },
      "source": [
        "# **Get Dataset**"
      ]
    },
    {
      "cell_type": "code",
      "metadata": {
        "colab": {
          "base_uri": "https://localhost:8080/"
        },
        "id": "ikmInPZSi23p",
        "outputId": "4070d0d1-673d-43d4-ee6d-98d06b033eaa"
      },
      "source": [
        "# mount drive folder to colab notebook\n",
        "from google.colab import drive\n",
        "drive.mount('/content/drive')"
      ],
      "execution_count": 2,
      "outputs": [
        {
          "output_type": "stream",
          "text": [
            "Mounted at /content/drive\n"
          ],
          "name": "stdout"
        }
      ]
    },
    {
      "cell_type": "code",
      "metadata": {
        "colab": {
          "base_uri": "https://localhost:8080/",
          "height": 204
        },
        "id": "ucksB9gGcRMy",
        "outputId": "ecdce835-3d64-4686-d140-d5c7a6f07439"
      },
      "source": [
        "# get training predictor csv file\n",
        "file = r\"/content/drive/My Drive/IDA Project/IDA project dataset/train_x.csv\"\n",
        " \n",
        "# read csv using pandas \n",
        "data_x = pd.read_csv(file)\n",
        "data_x.head()"
      ],
      "execution_count": 3,
      "outputs": [
        {
          "output_type": "execute_result",
          "data": {
            "text/html": [
              "<div>\n",
              "<style scoped>\n",
              "    .dataframe tbody tr th:only-of-type {\n",
              "        vertical-align: middle;\n",
              "    }\n",
              "\n",
              "    .dataframe tbody tr th {\n",
              "        vertical-align: top;\n",
              "    }\n",
              "\n",
              "    .dataframe thead th {\n",
              "        text-align: right;\n",
              "    }\n",
              "</style>\n",
              "<table border=\"1\" class=\"dataframe\">\n",
              "  <thead>\n",
              "    <tr style=\"text-align: right;\">\n",
              "      <th></th>\n",
              "      <th>ID</th>\n",
              "      <th>Expense</th>\n",
              "      <th>Income</th>\n",
              "      <th>Loan type</th>\n",
              "      <th>Occupation type</th>\n",
              "      <th>Age</th>\n",
              "      <th>Score1</th>\n",
              "      <th>Score2</th>\n",
              "      <th>Score3</th>\n",
              "      <th>Score4</th>\n",
              "      <th>Score5</th>\n",
              "    </tr>\n",
              "  </thead>\n",
              "  <tbody>\n",
              "    <tr>\n",
              "      <th>0</th>\n",
              "      <td>1</td>\n",
              "      <td>1830.943788</td>\n",
              "      <td>14767.28013</td>\n",
              "      <td>B</td>\n",
              "      <td>Y</td>\n",
              "      <td>1.0</td>\n",
              "      <td>0.016885</td>\n",
              "      <td>205.196182</td>\n",
              "      <td>22.521523</td>\n",
              "      <td>600.911200</td>\n",
              "      <td>3464.613291</td>\n",
              "    </tr>\n",
              "    <tr>\n",
              "      <th>1</th>\n",
              "      <td>2</td>\n",
              "      <td>1645.302546</td>\n",
              "      <td>15272.26775</td>\n",
              "      <td>B</td>\n",
              "      <td>Y</td>\n",
              "      <td>0.0</td>\n",
              "      <td>0.240375</td>\n",
              "      <td>194.266317</td>\n",
              "      <td>5.349117</td>\n",
              "      <td>600.888816</td>\n",
              "      <td>3374.921455</td>\n",
              "    </tr>\n",
              "    <tr>\n",
              "      <th>2</th>\n",
              "      <td>3</td>\n",
              "      <td>1555.026392</td>\n",
              "      <td>17482.49734</td>\n",
              "      <td>A</td>\n",
              "      <td>Y</td>\n",
              "      <td>0.0</td>\n",
              "      <td>0.213921</td>\n",
              "      <td>183.529871</td>\n",
              "      <td>-1.054954</td>\n",
              "      <td>598.596944</td>\n",
              "      <td>3331.304886</td>\n",
              "    </tr>\n",
              "    <tr>\n",
              "      <th>3</th>\n",
              "      <td>4</td>\n",
              "      <td>NaN</td>\n",
              "      <td>16257.66493</td>\n",
              "      <td>A</td>\n",
              "      <td>Y</td>\n",
              "      <td>0.0</td>\n",
              "      <td>0.303909</td>\n",
              "      <td>191.228965</td>\n",
              "      <td>6.971750</td>\n",
              "      <td>602.447203</td>\n",
              "      <td>3392.275849</td>\n",
              "    </tr>\n",
              "    <tr>\n",
              "      <th>4</th>\n",
              "      <td>5</td>\n",
              "      <td>1777.648916</td>\n",
              "      <td>16316.29914</td>\n",
              "      <td>B</td>\n",
              "      <td>X</td>\n",
              "      <td>1.0</td>\n",
              "      <td>NaN</td>\n",
              "      <td>224.074728</td>\n",
              "      <td>11.218489</td>\n",
              "      <td>605.947340</td>\n",
              "      <td>3438.864083</td>\n",
              "    </tr>\n",
              "  </tbody>\n",
              "</table>\n",
              "</div>"
            ],
            "text/plain": [
              "   ID      Expense       Income  ...     Score3      Score4       Score5\n",
              "0   1  1830.943788  14767.28013  ...  22.521523  600.911200  3464.613291\n",
              "1   2  1645.302546  15272.26775  ...   5.349117  600.888816  3374.921455\n",
              "2   3  1555.026392  17482.49734  ...  -1.054954  598.596944  3331.304886\n",
              "3   4          NaN  16257.66493  ...   6.971750  602.447203  3392.275849\n",
              "4   5  1777.648916  16316.29914  ...  11.218489  605.947340  3438.864083\n",
              "\n",
              "[5 rows x 11 columns]"
            ]
          },
          "metadata": {
            "tags": []
          },
          "execution_count": 3
        }
      ]
    },
    {
      "cell_type": "code",
      "metadata": {
        "colab": {
          "base_uri": "https://localhost:8080/",
          "height": 204
        },
        "id": "RAeEXq5hv72I",
        "outputId": "0529c9fe-6a11-4f4a-a7f0-2c898546787b"
      },
      "source": [
        "# get training target csv file\r\n",
        "file_y = r\"/content/drive/My Drive/IDA Project/IDA project dataset/train_y.csv\"\r\n",
        "\r\n",
        "# read csv using pandas \r\n",
        "data_y = pd.read_csv(file_y)\r\n",
        "data_y.head()"
      ],
      "execution_count": 4,
      "outputs": [
        {
          "output_type": "execute_result",
          "data": {
            "text/html": [
              "<div>\n",
              "<style scoped>\n",
              "    .dataframe tbody tr th:only-of-type {\n",
              "        vertical-align: middle;\n",
              "    }\n",
              "\n",
              "    .dataframe tbody tr th {\n",
              "        vertical-align: top;\n",
              "    }\n",
              "\n",
              "    .dataframe thead th {\n",
              "        text-align: right;\n",
              "    }\n",
              "</style>\n",
              "<table border=\"1\" class=\"dataframe\">\n",
              "  <thead>\n",
              "    <tr style=\"text-align: right;\">\n",
              "      <th></th>\n",
              "      <th>ID</th>\n",
              "      <th>Label</th>\n",
              "    </tr>\n",
              "  </thead>\n",
              "  <tbody>\n",
              "    <tr>\n",
              "      <th>0</th>\n",
              "      <td>1</td>\n",
              "      <td>0.0</td>\n",
              "    </tr>\n",
              "    <tr>\n",
              "      <th>1</th>\n",
              "      <td>2</td>\n",
              "      <td>0.0</td>\n",
              "    </tr>\n",
              "    <tr>\n",
              "      <th>2</th>\n",
              "      <td>3</td>\n",
              "      <td>0.0</td>\n",
              "    </tr>\n",
              "    <tr>\n",
              "      <th>3</th>\n",
              "      <td>4</td>\n",
              "      <td>0.0</td>\n",
              "    </tr>\n",
              "    <tr>\n",
              "      <th>4</th>\n",
              "      <td>5</td>\n",
              "      <td>0.0</td>\n",
              "    </tr>\n",
              "  </tbody>\n",
              "</table>\n",
              "</div>"
            ],
            "text/plain": [
              "   ID  Label\n",
              "0   1    0.0\n",
              "1   2    0.0\n",
              "2   3    0.0\n",
              "3   4    0.0\n",
              "4   5    0.0"
            ]
          },
          "metadata": {
            "tags": []
          },
          "execution_count": 4
        }
      ]
    },
    {
      "cell_type": "markdown",
      "metadata": {
        "id": "ZTKq6p0vmWCe"
      },
      "source": [
        "# **Data Preprocessing**"
      ]
    },
    {
      "cell_type": "code",
      "metadata": {
        "id": "Y90HMKaIcRQF"
      },
      "source": [
        "# replace whitespaces in feature names with an underscore\r\n",
        "data_x.columns = [c.replace(' ', '_') for c in data_x.columns]"
      ],
      "execution_count": 5,
      "outputs": []
    },
    {
      "cell_type": "code",
      "metadata": {
        "id": "d4cs-QEHlgZH"
      },
      "source": [
        "# Drop 'ID' column Since it only conveys the chronological order in which data was collected\r\n",
        "data_x = data_x.drop(['ID'], axis=1)\r\n",
        "data_y = data_y.drop(['ID'], axis=1)"
      ],
      "execution_count": 6,
      "outputs": []
    },
    {
      "cell_type": "code",
      "metadata": {
        "colab": {
          "base_uri": "https://localhost:8080/"
        },
        "id": "_YikwMmOlkYL",
        "outputId": "4cd29788-d8f3-4fcd-8ef2-fd5eddb567f7"
      },
      "source": [
        "# check variables data type\r\n",
        "data_x.info()"
      ],
      "execution_count": 7,
      "outputs": [
        {
          "output_type": "stream",
          "text": [
            "<class 'pandas.core.frame.DataFrame'>\n",
            "RangeIndex: 80000 entries, 0 to 79999\n",
            "Data columns (total 10 columns):\n",
            " #   Column           Non-Null Count  Dtype  \n",
            "---  ------           --------------  -----  \n",
            " 0   Expense          77956 non-null  float64\n",
            " 1   Income           78045 non-null  float64\n",
            " 2   Loan_type        77989 non-null  object \n",
            " 3   Occupation_type  78141 non-null  object \n",
            " 4   Age              77986 non-null  float64\n",
            " 5   Score1           78060 non-null  float64\n",
            " 6   Score2           77964 non-null  float64\n",
            " 7   Score3           78045 non-null  float64\n",
            " 8   Score4           78028 non-null  float64\n",
            " 9   Score5           78002 non-null  float64\n",
            "dtypes: float64(8), object(2)\n",
            "memory usage: 6.1+ MB\n"
          ],
          "name": "stdout"
        }
      ]
    },
    {
      "cell_type": "code",
      "metadata": {
        "colab": {
          "base_uri": "https://localhost:8080/",
          "height": 204
        },
        "id": "VM1y08vVloWE",
        "outputId": "f4c915d2-7e7f-4069-b2d4-b4fa389ea96b"
      },
      "source": [
        "# Use one hot encoding to encode categorical variables and drop the first column  \r\n",
        "cat_var = data_x[['Loan_type', 'Occupation_type']]\r\n",
        "dummies = pd.get_dummies(data_x, prefix=['Loan_type', 'Occupation_type'], drop_first= True)\r\n",
        "dummies.loc[data_x['Loan_type'].isnull(), dummies.columns.str.startswith(\"Loan_type_\")] = np.nan\r\n",
        "dummies.loc[data_x['Occupation_type'].isnull(), dummies.columns.str.startswith(\"Occupation_type_\")] = np.nan\r\n",
        "dummies.head()"
      ],
      "execution_count": 8,
      "outputs": [
        {
          "output_type": "execute_result",
          "data": {
            "text/html": [
              "<div>\n",
              "<style scoped>\n",
              "    .dataframe tbody tr th:only-of-type {\n",
              "        vertical-align: middle;\n",
              "    }\n",
              "\n",
              "    .dataframe tbody tr th {\n",
              "        vertical-align: top;\n",
              "    }\n",
              "\n",
              "    .dataframe thead th {\n",
              "        text-align: right;\n",
              "    }\n",
              "</style>\n",
              "<table border=\"1\" class=\"dataframe\">\n",
              "  <thead>\n",
              "    <tr style=\"text-align: right;\">\n",
              "      <th></th>\n",
              "      <th>Expense</th>\n",
              "      <th>Income</th>\n",
              "      <th>Age</th>\n",
              "      <th>Score1</th>\n",
              "      <th>Score2</th>\n",
              "      <th>Score3</th>\n",
              "      <th>Score4</th>\n",
              "      <th>Score5</th>\n",
              "      <th>Loan_type_B</th>\n",
              "      <th>Occupation_type_Y</th>\n",
              "      <th>Occupation_type_Z</th>\n",
              "    </tr>\n",
              "  </thead>\n",
              "  <tbody>\n",
              "    <tr>\n",
              "      <th>0</th>\n",
              "      <td>1830.943788</td>\n",
              "      <td>14767.28013</td>\n",
              "      <td>1.0</td>\n",
              "      <td>0.016885</td>\n",
              "      <td>205.196182</td>\n",
              "      <td>22.521523</td>\n",
              "      <td>600.911200</td>\n",
              "      <td>3464.613291</td>\n",
              "      <td>1.0</td>\n",
              "      <td>1.0</td>\n",
              "      <td>0.0</td>\n",
              "    </tr>\n",
              "    <tr>\n",
              "      <th>1</th>\n",
              "      <td>1645.302546</td>\n",
              "      <td>15272.26775</td>\n",
              "      <td>0.0</td>\n",
              "      <td>0.240375</td>\n",
              "      <td>194.266317</td>\n",
              "      <td>5.349117</td>\n",
              "      <td>600.888816</td>\n",
              "      <td>3374.921455</td>\n",
              "      <td>1.0</td>\n",
              "      <td>1.0</td>\n",
              "      <td>0.0</td>\n",
              "    </tr>\n",
              "    <tr>\n",
              "      <th>2</th>\n",
              "      <td>1555.026392</td>\n",
              "      <td>17482.49734</td>\n",
              "      <td>0.0</td>\n",
              "      <td>0.213921</td>\n",
              "      <td>183.529871</td>\n",
              "      <td>-1.054954</td>\n",
              "      <td>598.596944</td>\n",
              "      <td>3331.304886</td>\n",
              "      <td>0.0</td>\n",
              "      <td>1.0</td>\n",
              "      <td>0.0</td>\n",
              "    </tr>\n",
              "    <tr>\n",
              "      <th>3</th>\n",
              "      <td>NaN</td>\n",
              "      <td>16257.66493</td>\n",
              "      <td>0.0</td>\n",
              "      <td>0.303909</td>\n",
              "      <td>191.228965</td>\n",
              "      <td>6.971750</td>\n",
              "      <td>602.447203</td>\n",
              "      <td>3392.275849</td>\n",
              "      <td>0.0</td>\n",
              "      <td>1.0</td>\n",
              "      <td>0.0</td>\n",
              "    </tr>\n",
              "    <tr>\n",
              "      <th>4</th>\n",
              "      <td>1777.648916</td>\n",
              "      <td>16316.29914</td>\n",
              "      <td>1.0</td>\n",
              "      <td>NaN</td>\n",
              "      <td>224.074728</td>\n",
              "      <td>11.218489</td>\n",
              "      <td>605.947340</td>\n",
              "      <td>3438.864083</td>\n",
              "      <td>1.0</td>\n",
              "      <td>0.0</td>\n",
              "      <td>0.0</td>\n",
              "    </tr>\n",
              "  </tbody>\n",
              "</table>\n",
              "</div>"
            ],
            "text/plain": [
              "       Expense       Income  ...  Occupation_type_Y  Occupation_type_Z\n",
              "0  1830.943788  14767.28013  ...                1.0                0.0\n",
              "1  1645.302546  15272.26775  ...                1.0                0.0\n",
              "2  1555.026392  17482.49734  ...                1.0                0.0\n",
              "3          NaN  16257.66493  ...                1.0                0.0\n",
              "4  1777.648916  16316.29914  ...                0.0                0.0\n",
              "\n",
              "[5 rows x 11 columns]"
            ]
          },
          "metadata": {
            "tags": []
          },
          "execution_count": 8
        }
      ]
    },
    {
      "cell_type": "code",
      "metadata": {
        "colab": {
          "base_uri": "https://localhost:8080/"
        },
        "id": "B-rIHjPIloX6",
        "outputId": "a905e155-343e-4cfc-a4fd-636459483cf5"
      },
      "source": [
        "# check target variable datatype\r\n",
        "data_y.info()\r\n",
        "\r\n",
        "# check for duplicate \r\n",
        "data_x.duplicated().any()"
      ],
      "execution_count": 9,
      "outputs": [
        {
          "output_type": "stream",
          "text": [
            "<class 'pandas.core.frame.DataFrame'>\n",
            "RangeIndex: 80000 entries, 0 to 79999\n",
            "Data columns (total 1 columns):\n",
            " #   Column  Non-Null Count  Dtype  \n",
            "---  ------  --------------  -----  \n",
            " 0   Label   76097 non-null  float64\n",
            "dtypes: float64(1)\n",
            "memory usage: 625.1 KB\n"
          ],
          "name": "stdout"
        },
        {
          "output_type": "execute_result",
          "data": {
            "text/plain": [
              "False"
            ]
          },
          "metadata": {
            "tags": []
          },
          "execution_count": 9
        }
      ]
    },
    {
      "cell_type": "code",
      "metadata": {
        "id": "qY6-Wpe6mGOO"
      },
      "source": [
        "# split data into train and test to train and evaluate the model\r\n",
        "X_train, X_test, y_train, y_test = train_test_split(dummies, data_y, test_size=0.2, random_state=42)\r\n",
        "X2_train=np.append(X_train,y_train,axis=1) \r\n",
        "X2_test=np.append(X_test,y_test,axis=1)\r\n",
        "cols = ['Expense', 'Income', 'Age', 'Score1', 'Score2', 'Score3', 'Score4',\r\n",
        "       'Score5', 'Loan_type_B', 'Occupation_type_Y', 'Occupation_type_Z', 'label']\r\n",
        "X2_train = pd.DataFrame(X2_train, columns = cols)\r\n",
        "X2_test = pd.DataFrame(X2_test, columns = cols)"
      ],
      "execution_count": 10,
      "outputs": []
    },
    {
      "cell_type": "code",
      "metadata": {
        "colab": {
          "base_uri": "https://localhost:8080/",
          "height": 204
        },
        "id": "j_2hBFrjmcNV",
        "outputId": "3e69ec13-5d55-4960-84cf-aba987ffa0c2"
      },
      "source": [
        "# Normalize the data such that all features lie in same range [0,1]\r\n",
        "# KNN imputer performs best with normalized data as all the features equally affect the distance metric.\r\n",
        "from sklearn.preprocessing import MinMaxScaler\r\n",
        "cols_to_norm = ['Expense', 'Income', 'Age', 'Score1', 'Score2', 'Score3', 'Score4', 'Score5']\r\n",
        "minmaxscaler = MinMaxScaler()\r\n",
        "X2_train[cols_to_norm] = pd.DataFrame(minmaxscaler.fit_transform(X2_train[cols_to_norm]), columns = cols_to_norm)\r\n",
        "X2_test[cols_to_norm] = pd.DataFrame(minmaxscaler.transform(X2_test[cols_to_norm]), columns = cols_to_norm)\r\n",
        "X2_train.head()"
      ],
      "execution_count": 11,
      "outputs": [
        {
          "output_type": "execute_result",
          "data": {
            "text/html": [
              "<div>\n",
              "<style scoped>\n",
              "    .dataframe tbody tr th:only-of-type {\n",
              "        vertical-align: middle;\n",
              "    }\n",
              "\n",
              "    .dataframe tbody tr th {\n",
              "        vertical-align: top;\n",
              "    }\n",
              "\n",
              "    .dataframe thead th {\n",
              "        text-align: right;\n",
              "    }\n",
              "</style>\n",
              "<table border=\"1\" class=\"dataframe\">\n",
              "  <thead>\n",
              "    <tr style=\"text-align: right;\">\n",
              "      <th></th>\n",
              "      <th>Expense</th>\n",
              "      <th>Income</th>\n",
              "      <th>Age</th>\n",
              "      <th>Score1</th>\n",
              "      <th>Score2</th>\n",
              "      <th>Score3</th>\n",
              "      <th>Score4</th>\n",
              "      <th>Score5</th>\n",
              "      <th>Loan_type_B</th>\n",
              "      <th>Occupation_type_Y</th>\n",
              "      <th>Occupation_type_Z</th>\n",
              "      <th>label</th>\n",
              "    </tr>\n",
              "  </thead>\n",
              "  <tbody>\n",
              "    <tr>\n",
              "      <th>0</th>\n",
              "      <td>0.327993</td>\n",
              "      <td>0.454232</td>\n",
              "      <td>0.0</td>\n",
              "      <td>0.560177</td>\n",
              "      <td>0.453913</td>\n",
              "      <td>0.351965</td>\n",
              "      <td>0.391059</td>\n",
              "      <td>0.329711</td>\n",
              "      <td>NaN</td>\n",
              "      <td>0.0</td>\n",
              "      <td>1.0</td>\n",
              "      <td>NaN</td>\n",
              "    </tr>\n",
              "    <tr>\n",
              "      <th>1</th>\n",
              "      <td>0.348870</td>\n",
              "      <td>0.556629</td>\n",
              "      <td>1.0</td>\n",
              "      <td>0.742426</td>\n",
              "      <td>0.553143</td>\n",
              "      <td>0.370068</td>\n",
              "      <td>0.597193</td>\n",
              "      <td>0.350697</td>\n",
              "      <td>1.0</td>\n",
              "      <td>0.0</td>\n",
              "      <td>0.0</td>\n",
              "      <td>0.0</td>\n",
              "    </tr>\n",
              "    <tr>\n",
              "      <th>2</th>\n",
              "      <td>NaN</td>\n",
              "      <td>0.489403</td>\n",
              "      <td>0.0</td>\n",
              "      <td>0.604372</td>\n",
              "      <td>0.437175</td>\n",
              "      <td>0.468926</td>\n",
              "      <td>0.458450</td>\n",
              "      <td>0.522616</td>\n",
              "      <td>0.0</td>\n",
              "      <td>1.0</td>\n",
              "      <td>0.0</td>\n",
              "      <td>0.0</td>\n",
              "    </tr>\n",
              "    <tr>\n",
              "      <th>3</th>\n",
              "      <td>0.579462</td>\n",
              "      <td>0.466040</td>\n",
              "      <td>0.0</td>\n",
              "      <td>0.430114</td>\n",
              "      <td>0.410756</td>\n",
              "      <td>0.542739</td>\n",
              "      <td>0.349934</td>\n",
              "      <td>0.582496</td>\n",
              "      <td>0.0</td>\n",
              "      <td>0.0</td>\n",
              "      <td>1.0</td>\n",
              "      <td>1.0</td>\n",
              "    </tr>\n",
              "    <tr>\n",
              "      <th>4</th>\n",
              "      <td>0.421201</td>\n",
              "      <td>0.526440</td>\n",
              "      <td>0.0</td>\n",
              "      <td>0.593642</td>\n",
              "      <td>0.430227</td>\n",
              "      <td>0.402546</td>\n",
              "      <td>0.422684</td>\n",
              "      <td>0.423407</td>\n",
              "      <td>0.0</td>\n",
              "      <td>1.0</td>\n",
              "      <td>0.0</td>\n",
              "      <td>0.0</td>\n",
              "    </tr>\n",
              "  </tbody>\n",
              "</table>\n",
              "</div>"
            ],
            "text/plain": [
              "    Expense    Income  Age  ...  Occupation_type_Y  Occupation_type_Z  label\n",
              "0  0.327993  0.454232  0.0  ...                0.0                1.0    NaN\n",
              "1  0.348870  0.556629  1.0  ...                0.0                0.0    0.0\n",
              "2       NaN  0.489403  0.0  ...                1.0                0.0    0.0\n",
              "3  0.579462  0.466040  0.0  ...                0.0                1.0    1.0\n",
              "4  0.421201  0.526440  0.0  ...                1.0                0.0    0.0\n",
              "\n",
              "[5 rows x 12 columns]"
            ]
          },
          "metadata": {
            "tags": []
          },
          "execution_count": 11
        }
      ]
    },
    {
      "cell_type": "code",
      "metadata": {
        "id": "S0Y0vWzFmh2k"
      },
      "source": [
        "# missing values imputed using the attributes that are most similar to the attribute whose values are missing.\r\n",
        "from sklearn.impute import KNNImputer\r\n",
        "imputer = KNNImputer(n_neighbors=5)\r\n",
        "X2_train = pd.DataFrame(imputer.fit_transform(X2_train),columns = X2_train.columns)\r\n",
        "X2_test = pd.DataFrame(imputer.transform(X2_test),columns = X2_test.columns)"
      ],
      "execution_count": 12,
      "outputs": []
    },
    {
      "cell_type": "code",
      "metadata": {
        "id": "wH73pkjIm3b1"
      },
      "source": [
        "# changing the data type of target variable from continuous to integer type (0 or 1)\r\n",
        "X2_train['label'] = X2_train['label'].astype('int')\r\n",
        "X2_test['label'] = X2_test['label'].astype('int')"
      ],
      "execution_count": 13,
      "outputs": []
    },
    {
      "cell_type": "code",
      "metadata": {
        "id": "Nq_nur2Dm7vo"
      },
      "source": [
        "# defining train and test target and predictor variables\r\n",
        "y_train = X2_train[['label']]\r\n",
        "y_test = X2_test[['label']]\r\n",
        "X_train = X2_train.drop(['label'], axis=1)\r\n",
        "X_test = X2_test.drop(['label'], axis=1)"
      ],
      "execution_count": 14,
      "outputs": []
    },
    {
      "cell_type": "code",
      "metadata": {
        "id": "-gR_xywmm-8P"
      },
      "source": [
        "# Use OneClassSVM to predict outlier data points for binary classifier\r\n",
        "from sklearn.svm import OneClassSVM\r\n",
        "ee = OneClassSVM(nu=0.01)\r\n",
        "yhat = ee.fit_predict(X_train)\r\n",
        "X_train = X_train[yhat == 1]\r\n",
        "y_train = y_train[yhat == 1]"
      ],
      "execution_count": 15,
      "outputs": []
    },
    {
      "cell_type": "code",
      "metadata": {
        "id": "pJWvOXUYnC_M"
      },
      "source": [
        "# Scaling train dataset such that all the features have zero mean and unit variance \r\n",
        "from sklearn.preprocessing import StandardScaler\r\n",
        "scaler = StandardScaler()\r\n",
        "X_train = scaler.fit_transform(X_train)\r\n",
        "X_test = scaler.transform(X_test)"
      ],
      "execution_count": 16,
      "outputs": []
    },
    {
      "cell_type": "markdown",
      "metadata": {
        "id": "rwGKddbfmhH-"
      },
      "source": [
        "# **Hyperparameter Tuning of individual best models**"
      ]
    },
    {
      "cell_type": "code",
      "metadata": {
        "colab": {
          "background_save": true
        },
        "id": "NgX9-A-nFbg4",
        "outputId": "c7918233-f911-419c-f408-702d7de6fe3d"
      },
      "source": [
        "# SVC parameter tuning\r\n",
        "from sklearn.model_selection import RandomizedSearchCV\r\n",
        "from sklearn.svm import SVC\r\n",
        "  \r\n",
        "# defining parameter range \r\n",
        "param_dist = {'C': [0.1, 1, 10, 100],  \r\n",
        "              'gamma': ['scale', 'auto'], \r\n",
        "              'kernel': [\"linear\", \"rbf\", \"poly\"],\r\n",
        "              'probability': [True, False],\r\n",
        "              'degree': [1,3,5]}  \r\n",
        "  \r\n",
        "svc_cv = RandomizedSearchCV(SVC(), param_dist, cv = 5, n_jobs = -1) \r\n",
        "  \r\n",
        "# fitting the model for random search \r\n",
        "svc_cv.fit(X_train, y_train) \r\n",
        "print(svc_cv.best_params_)\r\n",
        "print(svc_cv.best_score_)"
      ],
      "execution_count": null,
      "outputs": [
        {
          "output_type": "stream",
          "text": [
            "{'probability': True, 'kernel': 'rbf', 'gamma': 'scale', 'degree': 1, 'C': 100}\n",
            "0.984738005050505\n"
          ],
          "name": "stdout"
        }
      ]
    },
    {
      "cell_type": "code",
      "metadata": {
        "colab": {
          "background_save": true
        },
        "id": "H-cfNbm4Bkh2",
        "outputId": "541a9c6d-b302-46b5-9ff2-df7df3f9c58f"
      },
      "source": [
        "# MLP parameter tuning\r\n",
        "from sklearn.model_selection import RandomizedSearchCV\r\n",
        "\r\n",
        "  \r\n",
        "# defining parameter range \r\n",
        "param_dist = parameter_space = {\r\n",
        "    'hidden_layer_sizes': [(10,10,10), (50,50,50), (50,100,50), (100,)],\r\n",
        "    'activation': ['identity', 'logistic', 'tanh', 'relu'],\r\n",
        "    'solver': ['lbfgs', 'sgd', 'adam'],\r\n",
        "    'alpha': [0.0001, 0.05, 0.1],\r\n",
        "    'max_iter': [200, 2000],\r\n",
        "    'learning_rate': ['constant','adaptive']\r\n",
        "}\r\n",
        "  \r\n",
        "mlp_cv = RandomizedSearchCV(MLPClassifier(), param_dist, cv = 5, n_jobs = -1) \r\n",
        "  \r\n",
        "# fitting the model for random search \r\n",
        "mlp_cv.fit(X_train, y_train) \r\n",
        "print(mlp_cv.best_params_)\r\n",
        "print(mlp_cv.best_score_)"
      ],
      "execution_count": null,
      "outputs": [
        {
          "output_type": "stream",
          "text": [
            "{'solver': 'lbfgs', 'max_iter': 200, 'learning_rate': 'constant', 'hidden_layer_sizes': (100,), 'alpha': 0.05, 'activation': 'tanh'}\n",
            "0.9889362373737374\n"
          ],
          "name": "stdout"
        }
      ]
    },
    {
      "cell_type": "code",
      "metadata": {
        "colab": {
          "base_uri": "https://localhost:8080/"
        },
        "id": "M3JQLhiSFpfI",
        "outputId": "e07f2b9c-988e-4b4c-d6cd-c9a2e1845ed8"
      },
      "source": [
        "# Random forest Hyperparameter tuning\r\n",
        "from sklearn.ensemble import RandomForestClassifier\r\n",
        "from scipy.stats import randint\r\n",
        "from sklearn.model_selection import RandomizedSearchCV\r\n",
        "# using cross validation \r\n",
        "# define parameter range\r\n",
        "param_dist = { 'criterion': ['gini', 'entropy'],\r\n",
        " 'bootstrap': [True, False],\r\n",
        " 'max_depth': [3, 5, None],\r\n",
        " 'max_features' : ['auto', 'sqrt', 'log2', None],\r\n",
        " 'min_samples_leaf': [1, 3, 4, 5],\r\n",
        " 'min_samples_split': [2, 5, 10, 20],\r\n",
        " 'n_estimators': [50,100,200],\r\n",
        " 'class_weight': ['balanced', 'balanced_subsample', None]\r\n",
        " }\r\n",
        "\r\n",
        "clf = RandomForestClassifier() \r\n",
        "tree_cv = RandomizedSearchCV(clf, param_dist, cv = 5, n_jobs = -1)\r\n",
        "\r\n",
        "# fitting the model for random search\r\n",
        "tree_cv.fit(X_train,y_train)\r\n",
        "print(tree_cv.best_params_)\r\n",
        "print(tree_cv.best_score_)"
      ],
      "execution_count": null,
      "outputs": [
        {
          "output_type": "stream",
          "text": [
            "{'n_estimators': 100, 'min_samples_split': 2, 'min_samples_leaf': 3, 'max_features': None, 'max_depth': None, 'criterion': 'entropy', 'class_weight': 'balanced_subsample', 'bootstrap': True}\n",
            "0.9837594696969697\n"
          ],
          "name": "stdout"
        }
      ]
    },
    {
      "cell_type": "markdown",
      "metadata": {
        "id": "biYq2bOFoRBq"
      },
      "source": [
        "# **Stacking Classifier (meta classifier with stacked hypertuned classifiers)**"
      ]
    },
    {
      "cell_type": "code",
      "metadata": {
        "id": "QDUotI_iCJR0"
      },
      "source": [
        "from sklearn.svm import SVC, NuSVC\r\n",
        "from sklearn.neural_network import MLPClassifier\r\n",
        "from sklearn.ensemble import RandomForestClassifier\r\n",
        "\r\n",
        "\r\n",
        "# Initializing Support Vector classifier\r\n",
        "classifier1 = SVC(C = 100, degree = 1, gamma = \"scale\", kernel = \"rbf\", probability = True, class_weight= None)\r\n",
        "\r\n",
        "# Initializing Multi-layer perceptron  classifier\r\n",
        "classifier2 = MLPClassifier(solver = 'lbfgs', activation = \"tanh\", alpha = 0.05, hidden_layer_sizes = (100,),\r\n",
        "                            learning_rate = \"constant\", max_iter = 200, random_state = 1000)\r\n",
        "\r\n",
        "# Initializing Random Forest classifier\r\n",
        "classifier3 = RandomForestClassifier(n_estimators=100, max_depth = None, min_samples_leaf= 3, min_samples_split= 2, max_features= None, criterion = 'entropy', class_weight= 'balanced_subsample', bootstrap = True, random_state=0)\r\n"
      ],
      "execution_count": 20,
      "outputs": []
    },
    {
      "cell_type": "code",
      "metadata": {
        "id": "aHFlrfAtEa6C"
      },
      "source": [
        "from mlxtend.classifier import StackingCVClassifier\r\n",
        "from sklearn.ensemble import StackingClassifier\r\n",
        "# Initializing the StackingCV classifier\r\n",
        "sclf = StackingClassifier(((\"SVC\", classifier1),(\"MLP\", classifier2), (\"RF\", classifier3)), cv = 5, final_estimator =  SVC(probability = True))"
      ],
      "execution_count": 21,
      "outputs": []
    },
    {
      "cell_type": "code",
      "metadata": {
        "colab": {
          "base_uri": "https://localhost:8080/"
        },
        "id": "ykASGtzREa7a",
        "outputId": "5f4bc82d-52f4-47dc-d0cc-35840f592056"
      },
      "source": [
        "# fit the meta classifier on train dataset \r\n",
        "sclf.fit(X_train, y_train)\r\n",
        "# predict labels for test dataset\r\n",
        "sclf_pred = sclf.predict(X_test)\r\n",
        "print(\"Accuracy:\",metrics.accuracy_score(y_test, sclf_pred)*100)"
      ],
      "execution_count": 20,
      "outputs": [
        {
          "output_type": "stream",
          "text": [
            "Accuracy: 99.0125\n"
          ],
          "name": "stdout"
        }
      ]
    },
    {
      "cell_type": "code",
      "metadata": {
        "colab": {
          "base_uri": "https://localhost:8080/"
        },
        "id": "cZ8M-a_TVws5",
        "outputId": "5b374aeb-b729-4515-f957-5485ee7a4fd7"
      },
      "source": [
        "from sklearn.metrics import classification_report\r\n",
        "print(classification_report(y_test, sclf_pred))"
      ],
      "execution_count": null,
      "outputs": [
        {
          "output_type": "stream",
          "text": [
            "              precision    recall  f1-score   support\n",
            "\n",
            "           0       0.99      1.00      0.99     14935\n",
            "           1       0.93      0.92      0.93      1065\n",
            "\n",
            "    accuracy                           0.99     16000\n",
            "   macro avg       0.96      0.96      0.96     16000\n",
            "weighted avg       0.99      0.99      0.99     16000\n",
            "\n"
          ],
          "name": "stdout"
        }
      ]
    },
    {
      "cell_type": "code",
      "metadata": {
        "colab": {
          "base_uri": "https://localhost:8080/",
          "height": 296
        },
        "id": "te7QwepjYFNt",
        "outputId": "8feb68ea-c7fd-4bad-f151-822d0853cc06"
      },
      "source": [
        "# plot confusion matrix\r\n",
        "from sklearn.metrics import plot_confusion_matrix\r\n",
        "plot_confusion_matrix(sclf, X_test, y_test) \r\n",
        " "
      ],
      "execution_count": 24,
      "outputs": [
        {
          "output_type": "execute_result",
          "data": {
            "text/plain": [
              "<sklearn.metrics._plot.confusion_matrix.ConfusionMatrixDisplay at 0x7f888d0bb278>"
            ]
          },
          "metadata": {
            "tags": []
          },
          "execution_count": 24
        },
        {
          "output_type": "display_data",
          "data": {
            "image/png": "[encoded data removed]",
            "text/plain": [
              "<Figure size 432x288 with 2 Axes>"
            ]
          },
          "metadata": {
            "tags": [],
            "needs_background": "light"
          }
        }
      ]
    },
    {
      "cell_type": "code",
      "metadata": {
        "colab": {
          "base_uri": "https://localhost:8080/"
        },
        "id": "inn3JfM6CqjK",
        "outputId": "d969597b-f52c-4e15-8155-37d6efc5284b"
      },
      "source": [
        "from sklearn.model_selection import cross_val_score\r\n",
        "from statistics import *\r\n",
        "print(mean(cross_val_score(sclf, X_train, y_train, cv=5)))"
      ],
      "execution_count": null,
      "outputs": [
        {
          "output_type": "stream",
          "text": [
            "0.9893150252525252\n"
          ],
          "name": "stdout"
        }
      ]
    },
    {
      "cell_type": "code",
      "metadata": {
        "colab": {
          "base_uri": "https://localhost:8080/"
        },
        "id": "q0RXCioBjD-A",
        "outputId": "f77b0c58-c9fd-4776-d110-3ecb3bf9341f"
      },
      "source": [
        "sclf_pred = sclf.predict(X_train)\r\n",
        "print(\"Accuracy:\",metrics.accuracy_score(y_train, sclf_pred)*100)"
      ],
      "execution_count": null,
      "outputs": [
        {
          "output_type": "stream",
          "text": [
            "Accuracy: 99.16666666666667\n"
          ],
          "name": "stdout"
        }
      ]
    },
    {
      "cell_type": "markdown",
      "metadata": {
        "id": "aT6dU6ET7tf1"
      },
      "source": [
        "# **Predicting test_x**"
      ]
    },
    {
      "cell_type": "code",
      "metadata": {
        "colab": {
          "base_uri": "https://localhost:8080/",
          "height": 204
        },
        "id": "t_xqBW0wzToY",
        "outputId": "4dd7360f-53ba-43dc-e3bd-cef44629aede"
      },
      "source": [
        "# get csv file\r\n",
        "file = r\"/content/drive/My Drive/IDA Project/IDA project dataset/test_x.csv\"\r\n",
        "\r\n",
        "# read csv using pandas \r\n",
        "test_x = pd.read_csv(file)\r\n",
        "test_x.head()"
      ],
      "execution_count": 25,
      "outputs": [
        {
          "output_type": "execute_result",
          "data": {
            "text/html": [
              "<div>\n",
              "<style scoped>\n",
              "    .dataframe tbody tr th:only-of-type {\n",
              "        vertical-align: middle;\n",
              "    }\n",
              "\n",
              "    .dataframe tbody tr th {\n",
              "        vertical-align: top;\n",
              "    }\n",
              "\n",
              "    .dataframe thead th {\n",
              "        text-align: right;\n",
              "    }\n",
              "</style>\n",
              "<table border=\"1\" class=\"dataframe\">\n",
              "  <thead>\n",
              "    <tr style=\"text-align: right;\">\n",
              "      <th></th>\n",
              "      <th>ID_Test</th>\n",
              "      <th>Expense</th>\n",
              "      <th>Income</th>\n",
              "      <th>Loan type</th>\n",
              "      <th>Occupation type</th>\n",
              "      <th>Age</th>\n",
              "      <th>Score1</th>\n",
              "      <th>Score2</th>\n",
              "      <th>Score3</th>\n",
              "      <th>Score4</th>\n",
              "      <th>Score5</th>\n",
              "    </tr>\n",
              "  </thead>\n",
              "  <tbody>\n",
              "    <tr>\n",
              "      <th>0</th>\n",
              "      <td>1</td>\n",
              "      <td>1780.356350</td>\n",
              "      <td>16691.51975</td>\n",
              "      <td>B</td>\n",
              "      <td>X</td>\n",
              "      <td>1</td>\n",
              "      <td>0.348808</td>\n",
              "      <td>226.896383</td>\n",
              "      <td>12.506668</td>\n",
              "      <td>607.396052</td>\n",
              "      <td>3440.172169</td>\n",
              "    </tr>\n",
              "    <tr>\n",
              "      <th>1</th>\n",
              "      <td>2</td>\n",
              "      <td>1939.547945</td>\n",
              "      <td>14782.20015</td>\n",
              "      <td>A</td>\n",
              "      <td>Z</td>\n",
              "      <td>0</td>\n",
              "      <td>0.426270</td>\n",
              "      <td>125.046903</td>\n",
              "      <td>12.976712</td>\n",
              "      <td>599.808710</td>\n",
              "      <td>3517.084962</td>\n",
              "    </tr>\n",
              "    <tr>\n",
              "      <th>2</th>\n",
              "      <td>3</td>\n",
              "      <td>1721.876977</td>\n",
              "      <td>14035.40923</td>\n",
              "      <td>B</td>\n",
              "      <td>Z</td>\n",
              "      <td>0</td>\n",
              "      <td>0.097577</td>\n",
              "      <td>181.636946</td>\n",
              "      <td>5.501962</td>\n",
              "      <td>596.344664</td>\n",
              "      <td>3411.918090</td>\n",
              "    </tr>\n",
              "    <tr>\n",
              "      <th>3</th>\n",
              "      <td>4</td>\n",
              "      <td>1681.268538</td>\n",
              "      <td>15179.79116</td>\n",
              "      <td>A</td>\n",
              "      <td>Z</td>\n",
              "      <td>0</td>\n",
              "      <td>0.295460</td>\n",
              "      <td>151.320572</td>\n",
              "      <td>3.058352</td>\n",
              "      <td>597.761361</td>\n",
              "      <td>3392.298282</td>\n",
              "    </tr>\n",
              "    <tr>\n",
              "      <th>4</th>\n",
              "      <td>5</td>\n",
              "      <td>1654.495928</td>\n",
              "      <td>15187.09603</td>\n",
              "      <td>A</td>\n",
              "      <td>Y</td>\n",
              "      <td>0</td>\n",
              "      <td>0.272479</td>\n",
              "      <td>178.429450</td>\n",
              "      <td>4.571414</td>\n",
              "      <td>600.006307</td>\n",
              "      <td>3379.363201</td>\n",
              "    </tr>\n",
              "  </tbody>\n",
              "</table>\n",
              "</div>"
            ],
            "text/plain": [
              "   ID_Test      Expense       Income  ...     Score3      Score4       Score5\n",
              "0        1  1780.356350  16691.51975  ...  12.506668  607.396052  3440.172169\n",
              "1        2  1939.547945  14782.20015  ...  12.976712  599.808710  3517.084962\n",
              "2        3  1721.876977  14035.40923  ...   5.501962  596.344664  3411.918090\n",
              "3        4  1681.268538  15179.79116  ...   3.058352  597.761361  3392.298282\n",
              "4        5  1654.495928  15187.09603  ...   4.571414  600.006307  3379.363201\n",
              "\n",
              "[5 rows x 11 columns]"
            ]
          },
          "metadata": {
            "tags": []
          },
          "execution_count": 25
        }
      ]
    },
    {
      "cell_type": "code",
      "metadata": {
        "id": "PkNdIsuEzqOJ"
      },
      "source": [
        "test_x.columns = [c.replace(' ', '_') for c in test_x.columns]"
      ],
      "execution_count": 26,
      "outputs": []
    },
    {
      "cell_type": "code",
      "metadata": {
        "id": "VYN-O3FSzz-R"
      },
      "source": [
        "# remove test ID column\r\n",
        "test_x = test_x.drop(['ID_Test'], axis=1)"
      ],
      "execution_count": 27,
      "outputs": []
    },
    {
      "cell_type": "code",
      "metadata": {
        "colab": {
          "base_uri": "https://localhost:8080/",
          "height": 204
        },
        "id": "7vpgmvtW12Nb",
        "outputId": "4747e716-9808-47e3-bc29-0e03e24f8fb1"
      },
      "source": [
        "test_x.head()"
      ],
      "execution_count": 28,
      "outputs": [
        {
          "output_type": "execute_result",
          "data": {
            "text/html": [
              "<div>\n",
              "<style scoped>\n",
              "    .dataframe tbody tr th:only-of-type {\n",
              "        vertical-align: middle;\n",
              "    }\n",
              "\n",
              "    .dataframe tbody tr th {\n",
              "        vertical-align: top;\n",
              "    }\n",
              "\n",
              "    .dataframe thead th {\n",
              "        text-align: right;\n",
              "    }\n",
              "</style>\n",
              "<table border=\"1\" class=\"dataframe\">\n",
              "  <thead>\n",
              "    <tr style=\"text-align: right;\">\n",
              "      <th></th>\n",
              "      <th>Expense</th>\n",
              "      <th>Income</th>\n",
              "      <th>Loan_type</th>\n",
              "      <th>Occupation_type</th>\n",
              "      <th>Age</th>\n",
              "      <th>Score1</th>\n",
              "      <th>Score2</th>\n",
              "      <th>Score3</th>\n",
              "      <th>Score4</th>\n",
              "      <th>Score5</th>\n",
              "    </tr>\n",
              "  </thead>\n",
              "  <tbody>\n",
              "    <tr>\n",
              "      <th>0</th>\n",
              "      <td>1780.356350</td>\n",
              "      <td>16691.51975</td>\n",
              "      <td>B</td>\n",
              "      <td>X</td>\n",
              "      <td>1</td>\n",
              "      <td>0.348808</td>\n",
              "      <td>226.896383</td>\n",
              "      <td>12.506668</td>\n",
              "      <td>607.396052</td>\n",
              "      <td>3440.172169</td>\n",
              "    </tr>\n",
              "    <tr>\n",
              "      <th>1</th>\n",
              "      <td>1939.547945</td>\n",
              "      <td>14782.20015</td>\n",
              "      <td>A</td>\n",
              "      <td>Z</td>\n",
              "      <td>0</td>\n",
              "      <td>0.426270</td>\n",
              "      <td>125.046903</td>\n",
              "      <td>12.976712</td>\n",
              "      <td>599.808710</td>\n",
              "      <td>3517.084962</td>\n",
              "    </tr>\n",
              "    <tr>\n",
              "      <th>2</th>\n",
              "      <td>1721.876977</td>\n",
              "      <td>14035.40923</td>\n",
              "      <td>B</td>\n",
              "      <td>Z</td>\n",
              "      <td>0</td>\n",
              "      <td>0.097577</td>\n",
              "      <td>181.636946</td>\n",
              "      <td>5.501962</td>\n",
              "      <td>596.344664</td>\n",
              "      <td>3411.918090</td>\n",
              "    </tr>\n",
              "    <tr>\n",
              "      <th>3</th>\n",
              "      <td>1681.268538</td>\n",
              "      <td>15179.79116</td>\n",
              "      <td>A</td>\n",
              "      <td>Z</td>\n",
              "      <td>0</td>\n",
              "      <td>0.295460</td>\n",
              "      <td>151.320572</td>\n",
              "      <td>3.058352</td>\n",
              "      <td>597.761361</td>\n",
              "      <td>3392.298282</td>\n",
              "    </tr>\n",
              "    <tr>\n",
              "      <th>4</th>\n",
              "      <td>1654.495928</td>\n",
              "      <td>15187.09603</td>\n",
              "      <td>A</td>\n",
              "      <td>Y</td>\n",
              "      <td>0</td>\n",
              "      <td>0.272479</td>\n",
              "      <td>178.429450</td>\n",
              "      <td>4.571414</td>\n",
              "      <td>600.006307</td>\n",
              "      <td>3379.363201</td>\n",
              "    </tr>\n",
              "  </tbody>\n",
              "</table>\n",
              "</div>"
            ],
            "text/plain": [
              "       Expense       Income Loan_type  ...     Score3      Score4       Score5\n",
              "0  1780.356350  16691.51975         B  ...  12.506668  607.396052  3440.172169\n",
              "1  1939.547945  14782.20015         A  ...  12.976712  599.808710  3517.084962\n",
              "2  1721.876977  14035.40923         B  ...   5.501962  596.344664  3411.918090\n",
              "3  1681.268538  15179.79116         A  ...   3.058352  597.761361  3392.298282\n",
              "4  1654.495928  15187.09603         A  ...   4.571414  600.006307  3379.363201\n",
              "\n",
              "[5 rows x 10 columns]"
            ]
          },
          "metadata": {
            "tags": []
          },
          "execution_count": 28
        }
      ]
    },
    {
      "cell_type": "code",
      "metadata": {
        "colab": {
          "base_uri": "https://localhost:8080/"
        },
        "id": "ceEKJGKhz237",
        "outputId": "2f901cd2-2e3b-412a-9276-f2c55571b59f"
      },
      "source": [
        "# check for null values\r\n",
        "test_x.isnull().sum()"
      ],
      "execution_count": 29,
      "outputs": [
        {
          "output_type": "execute_result",
          "data": {
            "text/plain": [
              "Expense            0\n",
              "Income             0\n",
              "Loan_type          0\n",
              "Occupation_type    0\n",
              "Age                0\n",
              "Score1             0\n",
              "Score2             0\n",
              "Score3             0\n",
              "Score4             0\n",
              "Score5             0\n",
              "dtype: int64"
            ]
          },
          "metadata": {
            "tags": []
          },
          "execution_count": 29
        }
      ]
    },
    {
      "cell_type": "code",
      "metadata": {
        "colab": {
          "base_uri": "https://localhost:8080/",
          "height": 204
        },
        "id": "dq7RlrPMz8zH",
        "outputId": "b7bd97dd-528c-4b4f-81c9-5baf1467c733"
      },
      "source": [
        "# Use one hot encoding to encode categorical variables and drop the first column \r\n",
        "cat_var = test_x[['Loan_type', 'Occupation_type']]\r\n",
        "dummies = pd.get_dummies(test_x, prefix=['Loan_type', 'Occupation_type'], drop_first=True)\r\n",
        "dummies.loc[test_x['Loan_type'].isnull(), dummies.columns.str.startswith(\"Loan_type_\")] = np.nan\r\n",
        "dummies.loc[test_x['Occupation_type'].isnull(), dummies.columns.str.startswith(\"Occupation_type_\")] = np.nan\r\n",
        "dummies.head()"
      ],
      "execution_count": 30,
      "outputs": [
        {
          "output_type": "execute_result",
          "data": {
            "text/html": [
              "<div>\n",
              "<style scoped>\n",
              "    .dataframe tbody tr th:only-of-type {\n",
              "        vertical-align: middle;\n",
              "    }\n",
              "\n",
              "    .dataframe tbody tr th {\n",
              "        vertical-align: top;\n",
              "    }\n",
              "\n",
              "    .dataframe thead th {\n",
              "        text-align: right;\n",
              "    }\n",
              "</style>\n",
              "<table border=\"1\" class=\"dataframe\">\n",
              "  <thead>\n",
              "    <tr style=\"text-align: right;\">\n",
              "      <th></th>\n",
              "      <th>Expense</th>\n",
              "      <th>Income</th>\n",
              "      <th>Age</th>\n",
              "      <th>Score1</th>\n",
              "      <th>Score2</th>\n",
              "      <th>Score3</th>\n",
              "      <th>Score4</th>\n",
              "      <th>Score5</th>\n",
              "      <th>Loan_type_B</th>\n",
              "      <th>Occupation_type_Y</th>\n",
              "      <th>Occupation_type_Z</th>\n",
              "    </tr>\n",
              "  </thead>\n",
              "  <tbody>\n",
              "    <tr>\n",
              "      <th>0</th>\n",
              "      <td>1780.356350</td>\n",
              "      <td>16691.51975</td>\n",
              "      <td>1</td>\n",
              "      <td>0.348808</td>\n",
              "      <td>226.896383</td>\n",
              "      <td>12.506668</td>\n",
              "      <td>607.396052</td>\n",
              "      <td>3440.172169</td>\n",
              "      <td>1.0</td>\n",
              "      <td>0.0</td>\n",
              "      <td>0.0</td>\n",
              "    </tr>\n",
              "    <tr>\n",
              "      <th>1</th>\n",
              "      <td>1939.547945</td>\n",
              "      <td>14782.20015</td>\n",
              "      <td>0</td>\n",
              "      <td>0.426270</td>\n",
              "      <td>125.046903</td>\n",
              "      <td>12.976712</td>\n",
              "      <td>599.808710</td>\n",
              "      <td>3517.084962</td>\n",
              "      <td>0.0</td>\n",
              "      <td>0.0</td>\n",
              "      <td>1.0</td>\n",
              "    </tr>\n",
              "    <tr>\n",
              "      <th>2</th>\n",
              "      <td>1721.876977</td>\n",
              "      <td>14035.40923</td>\n",
              "      <td>0</td>\n",
              "      <td>0.097577</td>\n",
              "      <td>181.636946</td>\n",
              "      <td>5.501962</td>\n",
              "      <td>596.344664</td>\n",
              "      <td>3411.918090</td>\n",
              "      <td>1.0</td>\n",
              "      <td>0.0</td>\n",
              "      <td>1.0</td>\n",
              "    </tr>\n",
              "    <tr>\n",
              "      <th>3</th>\n",
              "      <td>1681.268538</td>\n",
              "      <td>15179.79116</td>\n",
              "      <td>0</td>\n",
              "      <td>0.295460</td>\n",
              "      <td>151.320572</td>\n",
              "      <td>3.058352</td>\n",
              "      <td>597.761361</td>\n",
              "      <td>3392.298282</td>\n",
              "      <td>0.0</td>\n",
              "      <td>0.0</td>\n",
              "      <td>1.0</td>\n",
              "    </tr>\n",
              "    <tr>\n",
              "      <th>4</th>\n",
              "      <td>1654.495928</td>\n",
              "      <td>15187.09603</td>\n",
              "      <td>0</td>\n",
              "      <td>0.272479</td>\n",
              "      <td>178.429450</td>\n",
              "      <td>4.571414</td>\n",
              "      <td>600.006307</td>\n",
              "      <td>3379.363201</td>\n",
              "      <td>0.0</td>\n",
              "      <td>1.0</td>\n",
              "      <td>0.0</td>\n",
              "    </tr>\n",
              "  </tbody>\n",
              "</table>\n",
              "</div>"
            ],
            "text/plain": [
              "       Expense       Income  ...  Occupation_type_Y  Occupation_type_Z\n",
              "0  1780.356350  16691.51975  ...                0.0                0.0\n",
              "1  1939.547945  14782.20015  ...                0.0                1.0\n",
              "2  1721.876977  14035.40923  ...                0.0                1.0\n",
              "3  1681.268538  15179.79116  ...                0.0                1.0\n",
              "4  1654.495928  15187.09603  ...                1.0                0.0\n",
              "\n",
              "[5 rows x 11 columns]"
            ]
          },
          "metadata": {
            "tags": []
          },
          "execution_count": 30
        }
      ]
    },
    {
      "cell_type": "code",
      "metadata": {
        "colab": {
          "base_uri": "https://localhost:8080/",
          "height": 204
        },
        "id": "r_VAHOOM2OHZ",
        "outputId": "e3bae5b7-af86-405c-b3b2-73f53d2ec3fe"
      },
      "source": [
        "# transform the test data such that all features lie in same range [0,1] relative to the train data\r\n",
        "test_x = dummies\r\n",
        "test_x[cols_to_norm] = pd.DataFrame(minmaxscaler.transform(test_x[cols_to_norm]), columns = cols_to_norm)\r\n",
        "test_x.head()"
      ],
      "execution_count": 31,
      "outputs": [
        {
          "output_type": "execute_result",
          "data": {
            "text/html": [
              "<div>\n",
              "<style scoped>\n",
              "    .dataframe tbody tr th:only-of-type {\n",
              "        vertical-align: middle;\n",
              "    }\n",
              "\n",
              "    .dataframe tbody tr th {\n",
              "        vertical-align: top;\n",
              "    }\n",
              "\n",
              "    .dataframe thead th {\n",
              "        text-align: right;\n",
              "    }\n",
              "</style>\n",
              "<table border=\"1\" class=\"dataframe\">\n",
              "  <thead>\n",
              "    <tr style=\"text-align: right;\">\n",
              "      <th></th>\n",
              "      <th>Expense</th>\n",
              "      <th>Income</th>\n",
              "      <th>Age</th>\n",
              "      <th>Score1</th>\n",
              "      <th>Score2</th>\n",
              "      <th>Score3</th>\n",
              "      <th>Score4</th>\n",
              "      <th>Score5</th>\n",
              "      <th>Loan_type_B</th>\n",
              "      <th>Occupation_type_Y</th>\n",
              "      <th>Occupation_type_Z</th>\n",
              "    </tr>\n",
              "  </thead>\n",
              "  <tbody>\n",
              "    <tr>\n",
              "      <th>0</th>\n",
              "      <td>0.543470</td>\n",
              "      <td>0.577555</td>\n",
              "      <td>1.0</td>\n",
              "      <td>0.718747</td>\n",
              "      <td>0.577433</td>\n",
              "      <td>0.520151</td>\n",
              "      <td>0.658119</td>\n",
              "      <td>0.546316</td>\n",
              "      <td>1.0</td>\n",
              "      <td>0.0</td>\n",
              "      <td>0.0</td>\n",
              "    </tr>\n",
              "    <tr>\n",
              "      <th>1</th>\n",
              "      <td>0.680912</td>\n",
              "      <td>0.377777</td>\n",
              "      <td>0.0</td>\n",
              "      <td>0.779786</td>\n",
              "      <td>0.190319</td>\n",
              "      <td>0.526058</td>\n",
              "      <td>0.445969</td>\n",
              "      <td>0.684478</td>\n",
              "      <td>0.0</td>\n",
              "      <td>0.0</td>\n",
              "      <td>1.0</td>\n",
              "    </tr>\n",
              "    <tr>\n",
              "      <th>2</th>\n",
              "      <td>0.492980</td>\n",
              "      <td>0.299638</td>\n",
              "      <td>0.0</td>\n",
              "      <td>0.520781</td>\n",
              "      <td>0.405409</td>\n",
              "      <td>0.432126</td>\n",
              "      <td>0.349111</td>\n",
              "      <td>0.495562</td>\n",
              "      <td>1.0</td>\n",
              "      <td>0.0</td>\n",
              "      <td>1.0</td>\n",
              "    </tr>\n",
              "    <tr>\n",
              "      <th>3</th>\n",
              "      <td>0.457920</td>\n",
              "      <td>0.419378</td>\n",
              "      <td>0.0</td>\n",
              "      <td>0.676709</td>\n",
              "      <td>0.290181</td>\n",
              "      <td>0.401419</td>\n",
              "      <td>0.388723</td>\n",
              "      <td>0.460318</td>\n",
              "      <td>0.0</td>\n",
              "      <td>0.0</td>\n",
              "      <td>1.0</td>\n",
              "    </tr>\n",
              "    <tr>\n",
              "      <th>4</th>\n",
              "      <td>0.434805</td>\n",
              "      <td>0.420143</td>\n",
              "      <td>0.0</td>\n",
              "      <td>0.658601</td>\n",
              "      <td>0.393217</td>\n",
              "      <td>0.420433</td>\n",
              "      <td>0.451494</td>\n",
              "      <td>0.437082</td>\n",
              "      <td>0.0</td>\n",
              "      <td>1.0</td>\n",
              "      <td>0.0</td>\n",
              "    </tr>\n",
              "  </tbody>\n",
              "</table>\n",
              "</div>"
            ],
            "text/plain": [
              "    Expense    Income  Age  ...  Loan_type_B  Occupation_type_Y  Occupation_type_Z\n",
              "0  0.543470  0.577555  1.0  ...          1.0                0.0                0.0\n",
              "1  0.680912  0.377777  0.0  ...          0.0                0.0                1.0\n",
              "2  0.492980  0.299638  0.0  ...          1.0                0.0                1.0\n",
              "3  0.457920  0.419378  0.0  ...          0.0                0.0                1.0\n",
              "4  0.434805  0.420143  0.0  ...          0.0                1.0                0.0\n",
              "\n",
              "[5 rows x 11 columns]"
            ]
          },
          "metadata": {
            "tags": []
          },
          "execution_count": 31
        }
      ]
    },
    {
      "cell_type": "code",
      "metadata": {
        "id": "Er9p17R54Eut"
      },
      "source": [
        "# scale test dataset realtive to train data\r\n",
        "test_x = scaler.transform(test_x)"
      ],
      "execution_count": 32,
      "outputs": []
    },
    {
      "cell_type": "code",
      "metadata": {
        "id": "6Z27i_hp4V-4"
      },
      "source": [
        "# predict the labels for the test dataset using meta classifier\r\n",
        "y_pred = sclf.predict(test_x)"
      ],
      "execution_count": 53,
      "outputs": []
    },
    {
      "cell_type": "code",
      "metadata": {
        "id": "UJKRv0Pj4zz0"
      },
      "source": [
        "# convert into pandas dataframe\r\n",
        "y_pred = pd.DataFrame(y_pred, columns= ['Label'])"
      ],
      "execution_count": 54,
      "outputs": []
    },
    {
      "cell_type": "code",
      "metadata": {
        "colab": {
          "base_uri": "https://localhost:8080/",
          "height": 204
        },
        "id": "Io0C6ppe5Tsm",
        "outputId": "84bd0679-6bd0-41e2-9000-061b1d7228fb"
      },
      "source": [
        "y_pred.head()"
      ],
      "execution_count": 59,
      "outputs": [
        {
          "output_type": "execute_result",
          "data": {
            "text/html": [
              "<div>\n",
              "<style scoped>\n",
              "    .dataframe tbody tr th:only-of-type {\n",
              "        vertical-align: middle;\n",
              "    }\n",
              "\n",
              "    .dataframe tbody tr th {\n",
              "        vertical-align: top;\n",
              "    }\n",
              "\n",
              "    .dataframe thead th {\n",
              "        text-align: right;\n",
              "    }\n",
              "</style>\n",
              "<table border=\"1\" class=\"dataframe\">\n",
              "  <thead>\n",
              "    <tr style=\"text-align: right;\">\n",
              "      <th></th>\n",
              "      <th>Label</th>\n",
              "    </tr>\n",
              "  </thead>\n",
              "  <tbody>\n",
              "    <tr>\n",
              "      <th>1</th>\n",
              "      <td>0</td>\n",
              "    </tr>\n",
              "    <tr>\n",
              "      <th>2</th>\n",
              "      <td>0</td>\n",
              "    </tr>\n",
              "    <tr>\n",
              "      <th>3</th>\n",
              "      <td>0</td>\n",
              "    </tr>\n",
              "    <tr>\n",
              "      <th>4</th>\n",
              "      <td>0</td>\n",
              "    </tr>\n",
              "    <tr>\n",
              "      <th>5</th>\n",
              "      <td>0</td>\n",
              "    </tr>\n",
              "  </tbody>\n",
              "</table>\n",
              "</div>"
            ],
            "text/plain": [
              "   Label\n",
              "1      0\n",
              "2      0\n",
              "3      0\n",
              "4      0\n",
              "5      0"
            ]
          },
          "metadata": {
            "tags": []
          },
          "execution_count": 59
        }
      ]
    },
    {
      "cell_type": "code",
      "metadata": {
        "id": "WJTkoOY3PDCI"
      },
      "source": [
        "# dataframe index starting from 1\r\n",
        "y_pred.index = y_pred.index+1"
      ],
      "execution_count": 58,
      "outputs": []
    },
    {
      "cell_type": "code",
      "metadata": {
        "id": "cDLONpsp5XIy"
      },
      "source": [
        "# save as .csv file\r\n",
        "y_pred.to_csv('y_pred.csv', index = True, index_label = 'ID')"
      ],
      "execution_count": 61,
      "outputs": []
    }
  ]
}